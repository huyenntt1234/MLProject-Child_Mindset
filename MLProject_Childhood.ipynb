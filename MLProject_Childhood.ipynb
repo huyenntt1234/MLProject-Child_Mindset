{
  "metadata": {
    "kernelspec": {
      "language": "python",
      "display_name": "Python 3",
      "name": "python3"
    },
    "language_info": {
      "name": "python",
      "version": "3.10.14",
      "mimetype": "text/x-python",
      "codemirror_mode": {
        "name": "ipython",
        "version": 3
      },
      "pygments_lexer": "ipython3",
      "nbconvert_exporter": "python",
      "file_extension": ".py"
    },
    "kaggle": {
      "accelerator": "none",
      "dataSources": [
        {
          "sourceId": 9947230,
          "sourceType": "datasetVersion",
          "datasetId": 6116733
        }
      ],
      "dockerImageVersionId": 30786,
      "isInternetEnabled": true,
      "language": "python",
      "sourceType": "notebook",
      "isGpuEnabled": false
    },
    "colab": {
      "name": "MLProject - Childhood",
      "provenance": [],
      "include_colab_link": true
    }
  },
  "nbformat_minor": 0,
  "nbformat": 4,
  "cells": [
    {
      "cell_type": "markdown",
      "metadata": {
        "id": "view-in-github",
        "colab_type": "text"
      },
      "source": [
        "<a href=\"https://colab.research.google.com/github/huyenntt1234/MLProject-Child_Mindset/blob/main/MLProject_Childhood.ipynb\" target=\"_parent\"><img src=\"https://colab.research.google.com/assets/colab-badge.svg\" alt=\"Open In Colab\"/></a>"
      ]
    },
    {
      "source": [
        "# IMPORTANT: SOME KAGGLE DATA SOURCES ARE PRIVATE\n",
        "# RUN THIS CELL IN ORDER TO IMPORT YOUR KAGGLE DATA SOURCES.\n",
        "import kagglehub\n",
        "kagglehub.login()\n"
      ],
      "metadata": {
        "id": "HYV12ey8IDKY"
      },
      "cell_type": "code",
      "outputs": [],
      "execution_count": null
    },
    {
      "source": [
        "# IMPORTANT: RUN THIS CELL IN ORDER TO IMPORT YOUR KAGGLE DATA SOURCES,\n",
        "# THEN FEEL FREE TO DELETE THIS CELL.\n",
        "# NOTE: THIS NOTEBOOK ENVIRONMENT DIFFERS FROM KAGGLE'S PYTHON\n",
        "# ENVIRONMENT SO THERE MAY BE MISSING LIBRARIES USED BY YOUR\n",
        "# NOTEBOOK.\n",
        "\n",
        "nghiemhuyen_child_mindset_institution_path = kagglehub.dataset_download('nghiemhuyen/child-mindset-institution')\n",
        "\n",
        "print('Data source import complete.')\n"
      ],
      "metadata": {
        "id": "DEUOwNcLIDKc"
      },
      "cell_type": "code",
      "outputs": [],
      "execution_count": null
    },
    {
      "cell_type": "code",
      "source": [
        "# This Python 3 environment comes with many helpful analytics libraries installed\n",
        "# It is defined by the kaggle/python Docker image: https://github.com/kaggle/docker-python\n",
        "# For example, here's several helpful packages to load\n",
        "\n",
        "import numpy as np # linear algebra\n",
        "import pandas as pd # data processing, CSV file I/O (e.g. pd.read_csv)\n",
        "\n",
        "# Input data files are available in the read-only \"../input/\" directory\n",
        "# For example, running this (by clicking run or pressing Shift+Enter) will list all files under the input directory\n",
        "\n",
        "import os\n",
        "for dirname, _, filenames in os.walk('/kaggle/input'):\n",
        "    for filename in filenames:\n",
        "        print(os.path.join(dirname, filename))\n",
        "\n",
        "# You can write up to 20GB to the current directory (/kaggle/working/) that gets preserved as output when you create a version using \"Save & Run All\"\n",
        "# You can also write temporary files to /kaggle/temp/, but they won't be saved outside of the current session"
      ],
      "metadata": {
        "_uuid": "8f2839f25d086af736a60e9eeb907d3b93b6e0e5",
        "_cell_guid": "b1076dfc-b9ad-4769-8c92-a6c4dae69d19",
        "trusted": true,
        "execution": {
          "iopub.status.busy": "2024-11-24T16:44:50.051333Z",
          "iopub.execute_input": "2024-11-24T16:44:50.051889Z",
          "iopub.status.idle": "2024-11-24T16:44:51.964517Z",
          "shell.execute_reply.started": "2024-11-24T16:44:50.051847Z",
          "shell.execute_reply": "2024-11-24T16:44:51.963279Z"
        },
        "id": "bbv7nrmoIDKd"
      },
      "outputs": [],
      "execution_count": null
    },
    {
      "cell_type": "code",
      "source": [
        "import numpy as np\n",
        "import pandas as pd\n",
        "import matplotlib.pyplot as plt\n",
        "import os\n",
        "import re\n",
        "import seaborn as sns\n",
        "import torch\n",
        "import torch.nn as nn\n",
        "import torch.optim as optim\n",
        "from sklearn.base import clone\n",
        "from sklearn.metrics import cohen_kappa_score\n",
        "from sklearn.model_selection import StratifiedKFold\n",
        "from scipy.optimize import minimize\n",
        "from concurrent.futures import ThreadPoolExecutor\n",
        "from tqdm import tqdm\n",
        "from matplotlib.ticker import MaxNLocator, FormatStrFormatter, PercentFormatter\n",
        "from sklearn.preprocessing import StandardScaler\n",
        "from keras.models import Model\n",
        "from keras.layers import Input, Dense\n",
        "from keras.optimizers import Adam\n",
        "from colorama import Fore, Style\n",
        "from IPython.display import clear_output\n",
        "from lightgbm import LGBMRegressor\n",
        "from xgboost import XGBRegressor\n",
        "from catboost import CatBoostRegressor\n",
        "from sklearn.ensemble import VotingRegressor, RandomForestRegressor, GradientBoostingRegressor\n",
        "from sklearn.impute import SimpleImputer, KNNImputer\n",
        "from sklearn.pipeline import Pipeline\n",
        "from sklearn.model_selection import RandomizedSearchCV"
      ],
      "metadata": {
        "trusted": true,
        "execution": {
          "iopub.status.busy": "2024-11-24T16:44:51.96683Z",
          "iopub.execute_input": "2024-11-24T16:44:51.967446Z",
          "iopub.status.idle": "2024-11-24T16:44:58.342554Z",
          "shell.execute_reply.started": "2024-11-24T16:44:51.967396Z",
          "shell.execute_reply": "2024-11-24T16:44:58.341364Z"
        },
        "id": "2pxbI1z7IDKd"
      },
      "outputs": [],
      "execution_count": null
    },
    {
      "cell_type": "code",
      "source": [
        "train=pd.read_csv('/kaggle/input/child-mindset-institution/train.csv')\n",
        "test=pd.read_csv('/kaggle/input/child-mindset-institution/test.csv')\n",
        "sample=pd.read_csv('/kaggle/input/child-mindset-institution/sample_submission.csv')\n",
        "sii_labels =['None','Mild','Moderate','Severe']"
      ],
      "metadata": {
        "trusted": true,
        "execution": {
          "iopub.status.busy": "2024-11-24T16:44:58.344022Z",
          "iopub.execute_input": "2024-11-24T16:44:58.344876Z",
          "iopub.status.idle": "2024-11-24T16:44:58.410389Z",
          "shell.execute_reply.started": "2024-11-24T16:44:58.344825Z",
          "shell.execute_reply": "2024-11-24T16:44:58.408565Z"
        },
        "id": "N0NRoCzBIDKe"
      },
      "outputs": [],
      "execution_count": null
    },
    {
      "cell_type": "code",
      "source": [
        "train.describe()"
      ],
      "metadata": {
        "trusted": true,
        "execution": {
          "iopub.status.busy": "2024-11-24T16:44:58.413067Z",
          "iopub.execute_input": "2024-11-24T16:44:58.413437Z",
          "iopub.status.idle": "2024-11-24T16:44:58.565363Z",
          "shell.execute_reply.started": "2024-11-24T16:44:58.413403Z",
          "shell.execute_reply": "2024-11-24T16:44:58.564077Z"
        },
        "id": "vQik3P_NIDKe"
      },
      "outputs": [],
      "execution_count": null
    },
    {
      "cell_type": "code",
      "source": [
        "train_missing=train.isnull().sum()\n",
        "train_not_missing=train.count(numeric_only=False)\n",
        "train_missing=train_missing/(train_missing+train_not_missing)\n",
        "train_missing=train_missing[train_missing>0.2]\n",
        "train_missing=train_missing.to_frame()\n",
        "train_missing.describe()\n",
        "#74 features have more than 20% of missing values in the training data. The max % of missing value is 88%.\n",
        "#Therefore, the train data is needed to fill missing value before processing."
      ],
      "metadata": {
        "trusted": true,
        "execution": {
          "iopub.status.busy": "2024-11-24T16:44:58.566667Z",
          "iopub.execute_input": "2024-11-24T16:44:58.567053Z",
          "iopub.status.idle": "2024-11-24T16:44:58.590794Z",
          "shell.execute_reply.started": "2024-11-24T16:44:58.567022Z",
          "shell.execute_reply": "2024-11-24T16:44:58.589517Z"
        },
        "id": "-URf_TwOIDKf"
      },
      "outputs": [],
      "execution_count": null
    },
    {
      "cell_type": "code",
      "source": [
        " train.groupby('sii').size()\n",
        "#sii,the targeted value, is not evenly distributed in the train data."
      ],
      "metadata": {
        "trusted": true,
        "execution": {
          "iopub.status.busy": "2024-11-24T16:44:58.592312Z",
          "iopub.execute_input": "2024-11-24T16:44:58.592759Z",
          "iopub.status.idle": "2024-11-24T16:44:58.602804Z",
          "shell.execute_reply.started": "2024-11-24T16:44:58.592689Z",
          "shell.execute_reply": "2024-11-24T16:44:58.601618Z"
        },
        "id": "QiLupEthIDKf"
      },
      "outputs": [],
      "execution_count": null
    },
    {
      "cell_type": "code",
      "source": [
        "test.describe()\n",
        "# there are some features in train data that are missing in test data."
      ],
      "metadata": {
        "trusted": true,
        "execution": {
          "iopub.status.busy": "2024-11-24T16:44:58.604272Z",
          "iopub.execute_input": "2024-11-24T16:44:58.60462Z",
          "iopub.status.idle": "2024-11-24T16:44:58.700967Z",
          "shell.execute_reply.started": "2024-11-24T16:44:58.604588Z",
          "shell.execute_reply": "2024-11-24T16:44:58.699621Z"
        },
        "id": "iWCf7S29IDKg"
      },
      "outputs": [],
      "execution_count": null
    },
    {
      "cell_type": "code",
      "source": [
        "features_not_in_test=[f for f in train.columns if f not in test.columns]\n",
        "features_not_in_test.remove('sii')\n",
        "train=train.drop(features_not_in_test,axis=1)\n",
        "train.describe()"
      ],
      "metadata": {
        "trusted": true,
        "execution": {
          "iopub.status.busy": "2024-11-24T16:44:58.702304Z",
          "iopub.execute_input": "2024-11-24T16:44:58.702601Z",
          "iopub.status.idle": "2024-11-24T16:44:58.815205Z",
          "shell.execute_reply.started": "2024-11-24T16:44:58.702571Z",
          "shell.execute_reply": "2024-11-24T16:44:58.813989Z"
        },
        "id": "VzxeeY3hIDKg"
      },
      "outputs": [],
      "execution_count": null
    },
    {
      "cell_type": "code",
      "source": [
        "#Demographic info about the train data\n",
        "#Enrollment by seasons is evently\n",
        "vc=train['Basic_Demos-Enroll_Season'].value_counts()\n",
        "vc=vc.to_frame(name=\"Count\")\n",
        "vc['index']=vc.index\n",
        "plt.pie(vc['Count'],labels=vc['index'],autopct = \"%.2f%%\")\n",
        "plt.title('Season of enrollment')\n",
        "plt.show()\n"
      ],
      "metadata": {
        "trusted": true,
        "execution": {
          "iopub.status.busy": "2024-11-24T16:44:58.816545Z",
          "iopub.execute_input": "2024-11-24T16:44:58.816914Z",
          "iopub.status.idle": "2024-11-24T16:44:58.961558Z",
          "shell.execute_reply.started": "2024-11-24T16:44:58.816878Z",
          "shell.execute_reply": "2024-11-24T16:44:58.959977Z"
        },
        "id": "dAXH_QO7IDKh"
      },
      "outputs": [],
      "execution_count": null
    },
    {
      "cell_type": "code",
      "source": [
        "# Participants are more girls than boys\n",
        "vc=train['Basic_Demos-Sex'].value_counts()\n",
        "vc=vc.to_frame(name=\"Count\")\n",
        "plt.pie(vc['Count'],labels=['Girls','Boys'],autopct = \"%.2f%%\",colors=[\"lightpink\", \"lightblue\"])\n",
        "plt.title('Participants by genders')\n",
        "plt.show()"
      ],
      "metadata": {
        "trusted": true,
        "execution": {
          "iopub.status.busy": "2024-11-24T16:44:58.966803Z",
          "iopub.execute_input": "2024-11-24T16:44:58.96731Z",
          "iopub.status.idle": "2024-11-24T16:44:59.096035Z",
          "shell.execute_reply.started": "2024-11-24T16:44:58.967259Z",
          "shell.execute_reply": "2024-11-24T16:44:59.094983Z"
        },
        "id": "-lG7JzaiIDKh"
      },
      "outputs": [],
      "execution_count": null
    },
    {
      "cell_type": "code",
      "source": [
        "# Age distribution by genders is quite similar with a right skew shape. In both genders, mode of age is 8.\n",
        "vc = train.get(['Basic_Demos-Sex','Basic_Demos-Age'])\n",
        "vc = vc.groupby(['Basic_Demos-Sex']).value_counts()\n",
        "vc = vc.to_frame(name='counts')\n",
        "for i in vc.index.names:\n",
        "    vc[i] = vc.index.get_level_values(i)\n",
        "_, axs = plt.subplots(2, 1, sharex=True)\n",
        "for sex in range(2):\n",
        "    ax = axs.ravel()[sex]\n",
        "    ax.bar(vc['Basic_Demos-Age'],\n",
        "           vc['counts'],\n",
        "           color=['lightpink', 'lightblue'][sex],\n",
        "           label=['Girls', 'Boys'][sex])\n",
        "    ax.xaxis.set_major_locator(MaxNLocator(integer=True))\n",
        "    ax.set_ylabel('count')\n",
        "    ax.legend()\n",
        "plt.suptitle('Age distribution')\n",
        "axs.ravel()[1].set_xlabel('years')\n",
        "plt.show()"
      ],
      "metadata": {
        "trusted": true,
        "execution": {
          "iopub.status.busy": "2024-11-24T16:44:59.097281Z",
          "iopub.execute_input": "2024-11-24T16:44:59.097706Z",
          "iopub.status.idle": "2024-11-24T16:44:59.611012Z",
          "shell.execute_reply.started": "2024-11-24T16:44:59.097644Z",
          "shell.execute_reply": "2024-11-24T16:44:59.609902Z"
        },
        "id": "JfOixN6CIDKi"
      },
      "outputs": [],
      "execution_count": null
    },
    {
      "cell_type": "code",
      "source": [
        "#sii distribution by genders is quite similar with a right skew shape. In both genders, mode of sii label is none.\n",
        "vc = train.get(['Basic_Demos-Sex','sii'])\n",
        "vc = vc.groupby(['Basic_Demos-Sex']).value_counts()\n",
        "vc = vc.to_frame(name='counts')\n",
        "for i in vc.index.names:\n",
        "    vc[i] = vc.index.get_level_values(i)\n",
        "_, axs = plt.subplots(2, 1, sharex=True)\n",
        "for sex in range(2):\n",
        "    ax = axs.ravel()[sex]\n",
        "    ax.bar(vc['sii'],\n",
        "           vc['counts']/vc['counts'].sum(),\n",
        "           color=['lightpink', 'lightblue'][sex],\n",
        "           label=['Girls', 'Boys'][sex])\n",
        "    ax.set_xticks(np.arange(4),sii_labels)\n",
        "    ax.yaxis.set_major_formatter(PercentFormatter(xmax=1,decimals=0))\n",
        "    ax.set_ylabel('count')\n",
        "    ax.legend()\n",
        "plt.suptitle('sii distribution')\n",
        "axs.ravel()[1].set_xlabel('sii lable')\n",
        "plt.show()"
      ],
      "metadata": {
        "trusted": true,
        "execution": {
          "iopub.status.busy": "2024-11-24T16:44:59.612645Z",
          "iopub.execute_input": "2024-11-24T16:44:59.613021Z",
          "iopub.status.idle": "2024-11-24T16:44:59.922015Z",
          "shell.execute_reply.started": "2024-11-24T16:44:59.612988Z",
          "shell.execute_reply": "2024-11-24T16:44:59.920938Z"
        },
        "id": "eO9oenwLIDKi"
      },
      "outputs": [],
      "execution_count": null
    },
    {
      "cell_type": "markdown",
      "source": [
        "KNN"
      ],
      "metadata": {
        "id": "cTHNFwHPIDKi"
      }
    },
    {
      "cell_type": "code",
      "source": [
        "imputer=KNNImputer(n_neighbors=5)\n",
        "numeric_cols = train.select_dtypes(include=['float64','int64']).columns\n",
        "imputed_data=imputer.fit_transform(train[numeric_cols])\n",
        "train_imputed=pd.DataFrame(imputed_data,columns=numeric_cols)\n",
        "\n",
        "train_imputed['sii']=train_imputed['sii'].round().astype(int)\n",
        "for col in train.columns:\n",
        "    if col not in numeric_cols:\n",
        "        train_imputed[col]=train[col]\n",
        "\n",
        "train=train_imputed"
      ],
      "metadata": {
        "trusted": true,
        "execution": {
          "iopub.status.busy": "2024-11-24T16:44:59.923467Z",
          "iopub.execute_input": "2024-11-24T16:44:59.923833Z",
          "iopub.status.idle": "2024-11-24T16:45:05.663378Z",
          "shell.execute_reply.started": "2024-11-24T16:44:59.923797Z",
          "shell.execute_reply": "2024-11-24T16:45:05.66213Z"
        },
        "id": "PFYNcGgzIDKj"
      },
      "outputs": [],
      "execution_count": null
    },
    {
      "cell_type": "markdown",
      "source": [
        "Feature engineering"
      ],
      "metadata": {
        "id": "htE5IivcIDKk"
      }
    },
    {
      "cell_type": "code",
      "source": [
        "def feature_engineering(df):\n",
        "    numerics=['int16','int32','int64','float16','float32','float64']\n",
        "    numeric_df=df.select_dtypes(include=numerics).copy()\n",
        "    Physical_Season=df['Physical-Season']\n",
        "    Physical_Season = pd.get_dummies(Physical_Season).astype(int)\n",
        "    SDS_Season=df['SDS-Season']\n",
        "    SDS_Season = pd.get_dummies(SDS_Season).astype(int).rename(columns=lambda x:'SDS_' +str(x))\n",
        "    df=pd.concat([numeric_df,Physical_Season,SDS_Season],axis=1)\n",
        "    df['BMI_Age']=df['Physical-BMI']/df['Basic_Demos-Age']\n",
        "    df['Internet_Hours_Age']=df['PreInt_EduHx-computerinternet_hoursday']*df['Basic_Demos-Age']\n",
        "    df['PAQ_A_BMI']=df['PAQ_A-PAQ_A_Total']/df['BIA-BIA_BMI']\n",
        "    df['PAQ_C_BMI']=df['PAQ_C-PAQ_C_Total']/df['BIA-BIA_BMI']\n",
        "    df['SDS_Age']=df['SDS-SDS_Total_T']*df['Basic_Demos-Age']\n",
        "    return df\n",
        ""
      ],
      "metadata": {
        "trusted": true,
        "execution": {
          "iopub.status.busy": "2024-11-24T16:45:05.664568Z",
          "iopub.execute_input": "2024-11-24T16:45:05.664906Z",
          "iopub.status.idle": "2024-11-24T16:45:05.672608Z",
          "shell.execute_reply.started": "2024-11-24T16:45:05.664872Z",
          "shell.execute_reply": "2024-11-24T16:45:05.671496Z"
        },
        "id": "YsxZdepaIDKk"
      },
      "outputs": [],
      "execution_count": null
    },
    {
      "cell_type": "code",
      "source": [
        "train=feature_engineering(train)\n",
        "test=feature_engineering(test)"
      ],
      "metadata": {
        "trusted": true,
        "execution": {
          "iopub.status.busy": "2024-11-24T16:45:05.67424Z",
          "iopub.execute_input": "2024-11-24T16:45:05.674681Z",
          "iopub.status.idle": "2024-11-24T16:45:05.713047Z",
          "shell.execute_reply.started": "2024-11-24T16:45:05.674634Z",
          "shell.execute_reply": "2024-11-24T16:45:05.711637Z"
        },
        "id": "o1oE4x_4IDKk"
      },
      "outputs": [],
      "execution_count": null
    },
    {
      "cell_type": "code",
      "source": [
        "def quadratic_weight_kappa(y_true,y_pred):\n",
        "    return cohen_kappa_score(y_true,y_pred,weights='quadratic')\n",
        "def threshold_Rounder(oof_non_rounded,thresholds):\n",
        "    return np.where(oof_non_rounded<thresholds[0],0,\n",
        "                   np.where(oof_non_rounded<thresholds[1],1,\n",
        "                           np.where(oof_non_rounded<thresholds[2],2,3)))\n",
        "def evaluate_prediction(thresholds, y_true,oof_non_rounded):\n",
        "    rounded_p=threshold_Rounder(oof_non_rounded,thresholds)\n",
        "    return -quadratic_weight_kappa(y_true,rounded_p)"
      ],
      "metadata": {
        "trusted": true,
        "execution": {
          "iopub.status.busy": "2024-11-24T16:45:05.714462Z",
          "iopub.execute_input": "2024-11-24T16:45:05.714812Z",
          "iopub.status.idle": "2024-11-24T16:45:05.721154Z",
          "shell.execute_reply.started": "2024-11-24T16:45:05.714779Z",
          "shell.execute_reply": "2024-11-24T16:45:05.720045Z"
        },
        "id": "MxKRUO3MIDKk"
      },
      "outputs": [],
      "execution_count": null
    },
    {
      "cell_type": "markdown",
      "source": [
        "Model"
      ],
      "metadata": {
        "id": "jBwyf9WsIDKk"
      }
    },
    {
      "cell_type": "code",
      "source": [
        "SEED=42\n",
        "n_splits=5"
      ],
      "metadata": {
        "trusted": true,
        "execution": {
          "iopub.status.busy": "2024-11-24T16:45:05.722571Z",
          "iopub.execute_input": "2024-11-24T16:45:05.723013Z",
          "iopub.status.idle": "2024-11-24T16:45:05.736841Z",
          "shell.execute_reply.started": "2024-11-24T16:45:05.722967Z",
          "shell.execute_reply": "2024-11-24T16:45:05.735533Z"
        },
        "id": "X_GcAOSYIDKk"
      },
      "outputs": [],
      "execution_count": null
    },
    {
      "cell_type": "code",
      "source": [
        "def TrainML(model_class,test_data):\n",
        "    X=train.drop(['sii'],axis=1)\n",
        "    y=train['sii']\n",
        "\n",
        "    SKF=StratifiedKFold(n_splits=n_splits,shuffle=True,random_state=SEED)\n",
        "\n",
        "    train_S=[]\n",
        "    test_S=[]\n",
        "\n",
        "    oof_non_rounded=np.zeros(len(y),dtype=float)\n",
        "    oof_rounded=np.zeros(len(y),dtype=int)\n",
        "    test_preds = np.zeros((len(test_data),n_splits))\n",
        "\n",
        "    for fold, (train_idx,test_idx)in enumerate(tqdm(SKF.split(X,y),desc = \"Training Folds\",total=n_splits)):\n",
        "       X_train, X_test=X.iloc[train_idx],X.iloc[test_idx]\n",
        "       y_train, y_test=y.iloc[train_idx],y.iloc[test_idx]\n",
        "\n",
        "       model=clone(model_class)\n",
        "       model.fit(X_train,y_train)\n",
        "\n",
        "       y_train_pred=model.predict(X_train)\n",
        "       y_test_pred=model.predict(X_test)\n",
        "\n",
        "       oof_non_rounded[test_idx]=y_test_pred\n",
        "       y_test_pred_rounded = y_test_pred.round(0).astype(int)\n",
        "       oof_rounded[test_idx]=y_test_pred_rounded\n",
        "\n",
        "       train_kappa=quadratic_weight_kappa(y_train,y_train_pred.round(0).astype(int))\n",
        "       test_kappa=quadratic_weight_kappa(y_test,y_test_pred_rounded)\n",
        "\n",
        "       train_S.append(train_kappa)\n",
        "       test_S.append(test_kappa)\n",
        "\n",
        "       test_preds[:,fold]=model.predict(test_data)\n",
        "\n",
        "       print(f\"Fold{fold+1}-TrainQWK:{train_kappa:.4f},Validation QWK:{test_kappa:.4f}\")\n",
        "       clear_output(wait=True)\n",
        "\n",
        "    print(f\"Mean Train QWK -->{np.mean(train_S):.4f}\")\n",
        "    print(f\"Mean Validation QWK -->{np.mean(test_S):.4f}\")\n",
        "\n",
        "    KappaOPtimizer=minimize(evaluate_prediction,x0=[0.5,1.5,2.5],args=(y,oof_non_rounded),method='Nelder-Mead')\n",
        "    assert KappaOPtimizer.success, \"Optimization did not converge.\"\n",
        "\n",
        "    oof_tuned=threshold_Rounder(oof_non_rounded,KappaOPtimizer.x)\n",
        "    tKappa=quadratic_weight_kappa(y,oof_tuned)\n",
        "\n",
        "    print(f\"---->||Optimized QMK SCORE::{tKappa:.3f}\")\n",
        "\n",
        "    tpm=test_preds.mean(axis=1)\n",
        "    tpTuned=threshold_Rounder(tpm,KappaOPtimizer.x)\n",
        "\n",
        "    submission=pd.DataFrame({'id':sample['id'],'sii':tpTuned})\n",
        "    return submission"
      ],
      "metadata": {
        "trusted": true,
        "execution": {
          "iopub.status.busy": "2024-11-24T16:45:05.73827Z",
          "iopub.execute_input": "2024-11-24T16:45:05.738641Z",
          "iopub.status.idle": "2024-11-24T16:45:05.751661Z",
          "shell.execute_reply.started": "2024-11-24T16:45:05.738606Z",
          "shell.execute_reply": "2024-11-24T16:45:05.750413Z"
        },
        "id": "xcVDifYtIDKk"
      },
      "outputs": [],
      "execution_count": null
    },
    {
      "cell_type": "code",
      "source": [
        "#Model parameter:\n",
        "#Light Gradient Boosting Regressor\n",
        "LGBM_params={\n",
        "    'n_estimators': 200,\n",
        "    'learning_rate': 0.05,\n",
        "    'max_depth': 12,\n",
        "    'feature_fraction':0.8,\n",
        "    'bagging_fraction':0.8,\n",
        "    'bagging_freq':4,\n",
        "    'lamda_l1':8,\n",
        "    'lamda_l2':0.05,\n",
        "   }\n",
        "#XGBoost:\n",
        "XGB_params={\n",
        "    'n_estimators': 200,\n",
        "    'learning_rate': 0.05,\n",
        "    'max_depth': 12,\n",
        "    'subsample':0.5,\n",
        "    'colsample_bytree': 0.5,\n",
        "    'reg_alpha': 0.5,\n",
        "    'reg_lambda': 1,\n",
        "    'random_state':SEED\n",
        "}"
      ],
      "metadata": {
        "trusted": true,
        "execution": {
          "iopub.status.busy": "2024-11-24T16:45:05.753139Z",
          "iopub.execute_input": "2024-11-24T16:45:05.75349Z",
          "iopub.status.idle": "2024-11-24T16:45:05.771998Z",
          "shell.execute_reply.started": "2024-11-24T16:45:05.753454Z",
          "shell.execute_reply": "2024-11-24T16:45:05.770789Z"
        },
        "id": "vdpKbpeNIDKl"
      },
      "outputs": [],
      "execution_count": null
    },
    {
      "cell_type": "code",
      "source": [
        "Light=LGBMRegressor(**LGBM_params,random_state=SEED,verbose=-1)\n",
        "XGB_model=XGBRegressor(**XGB_params)"
      ],
      "metadata": {
        "trusted": true,
        "execution": {
          "iopub.status.busy": "2024-11-24T16:45:05.773288Z",
          "iopub.execute_input": "2024-11-24T16:45:05.773606Z",
          "iopub.status.idle": "2024-11-24T16:45:05.789988Z",
          "shell.execute_reply.started": "2024-11-24T16:45:05.773574Z",
          "shell.execute_reply": "2024-11-24T16:45:05.788948Z"
        },
        "id": "U7sa69KTIDKl"
      },
      "outputs": [],
      "execution_count": null
    },
    {
      "cell_type": "code",
      "source": [
        "voting_model=VotingRegressor(estimators=[('lightgbm',Light),('xgboost',XGB_model)])\n",
        "submission = TrainML(voting_model,test)"
      ],
      "metadata": {
        "trusted": true,
        "execution": {
          "iopub.status.busy": "2024-11-24T16:45:05.791308Z",
          "iopub.execute_input": "2024-11-24T16:45:05.791652Z",
          "iopub.status.idle": "2024-11-24T16:45:29.012618Z",
          "shell.execute_reply.started": "2024-11-24T16:45:05.79161Z",
          "shell.execute_reply": "2024-11-24T16:45:29.011461Z"
        },
        "id": "yAi5-42UIDKl"
      },
      "outputs": [],
      "execution_count": null
    },
    {
      "cell_type": "markdown",
      "source": [
        "Hyperparameter Tuning - Randomized Search CV"
      ],
      "metadata": {
        "id": "ybBdeOCCIDKm"
      }
    },
    {
      "cell_type": "code",
      "source": [
        "# Light Gradient Boosting Regressor\n",
        "LGBM_param_dist = {\n",
        "    'n_estimators': np.arange(200,500,50),\n",
        "    'learning_rate': np.linspace(0.01,0.1,10),\n",
        "    'max_depth': np.arange(4,14,2),\n",
        "    'feature_fraction':np.linspace(0.5,1.0,10),\n",
        "    'bagging_fraction':np.linspace(0.5,1.0,10),\n",
        "    'bagging_freq':np.arange(2,10,2),\n",
        "    'lamda_l1':np.arange(5,15,2),\n",
        "    'lamda_l2':np.linspace(0.01,1.0,10),\n",
        "   }\n",
        "#XGBoost:\n",
        "XGB_param_dist={\n",
        "    'n_estimators': np.arange(200,500,50),\n",
        "    'learning_rate': np.linspace(0.01,0.1,10),\n",
        "    'max_depth': np.arange(4,10,2),\n",
        "    'subsample':np.linspace(0.5,1.0,10),\n",
        "    'colsample_bytree':np.linspace(0.5,1.0,10),\n",
        "    'reg_alpha':np.linspace(0.5,1.5,10),\n",
        "    'reg_lambda':np.linspace(1,10,10),\n",
        "    }\n"
      ],
      "metadata": {
        "trusted": true,
        "execution": {
          "iopub.status.busy": "2024-11-24T16:45:29.014082Z",
          "iopub.execute_input": "2024-11-24T16:45:29.014424Z",
          "iopub.status.idle": "2024-11-24T16:45:29.023276Z",
          "shell.execute_reply.started": "2024-11-24T16:45:29.01439Z",
          "shell.execute_reply": "2024-11-24T16:45:29.022087Z"
        },
        "id": "HKMXr0TAIDKm"
      },
      "outputs": [],
      "execution_count": null
    },
    {
      "cell_type": "code",
      "source": [
        "#X_train, y_train\n",
        "X_train=train.drop(['sii'],axis=1)\n",
        "y_train=train['sii']"
      ],
      "metadata": {
        "trusted": true,
        "execution": {
          "iopub.status.busy": "2024-11-24T16:45:29.024535Z",
          "iopub.execute_input": "2024-11-24T16:45:29.024896Z",
          "iopub.status.idle": "2024-11-24T16:45:29.0383Z",
          "shell.execute_reply.started": "2024-11-24T16:45:29.02486Z",
          "shell.execute_reply": "2024-11-24T16:45:29.037047Z"
        },
        "id": "TFTLJtHVIDKm"
      },
      "outputs": [],
      "execution_count": null
    },
    {
      "cell_type": "code",
      "source": [
        "#LBGM\n",
        "LBGM_search=RandomizedSearchCV(Light,LGBM_param_dist,n_iter=20,scoring='neg_mean_squared_error',cv=3,random_state=SEED)\n",
        "LBGM_search.fit(X_train,y_train)\n",
        "best_LGBM=LBGM_search.best_estimator_\n",
        "#XGB\n",
        "XGB_search=RandomizedSearchCV(XGB_model,XGB_param_dist,n_iter=20,scoring='neg_mean_squared_error',cv=3,random_state=SEED)\n",
        "XGB_search.fit(X_train,y_train)\n",
        "best_XGB=XGB_search.best_estimator_\n"
      ],
      "metadata": {
        "trusted": true,
        "execution": {
          "iopub.status.busy": "2024-11-24T16:45:29.03977Z",
          "iopub.execute_input": "2024-11-24T16:45:29.040118Z",
          "iopub.status.idle": "2024-11-24T16:47:49.536761Z",
          "shell.execute_reply.started": "2024-11-24T16:45:29.040085Z",
          "shell.execute_reply": "2024-11-24T16:47:49.535564Z"
        },
        "id": "iE79R2QVIDKm"
      },
      "outputs": [],
      "execution_count": null
    },
    {
      "cell_type": "code",
      "source": [
        "best_LGBM"
      ],
      "metadata": {
        "trusted": true,
        "execution": {
          "iopub.status.busy": "2024-11-24T16:47:49.538114Z",
          "iopub.execute_input": "2024-11-24T16:47:49.53844Z",
          "iopub.status.idle": "2024-11-24T16:47:49.549369Z",
          "shell.execute_reply.started": "2024-11-24T16:47:49.538407Z",
          "shell.execute_reply": "2024-11-24T16:47:49.548209Z"
        },
        "id": "eTkkpY4lIDKm"
      },
      "outputs": [],
      "execution_count": null
    },
    {
      "cell_type": "code",
      "source": [
        "best_XGB"
      ],
      "metadata": {
        "trusted": true,
        "execution": {
          "iopub.status.busy": "2024-11-24T16:47:49.550865Z",
          "iopub.execute_input": "2024-11-24T16:47:49.551288Z",
          "iopub.status.idle": "2024-11-24T16:47:49.568419Z",
          "shell.execute_reply.started": "2024-11-24T16:47:49.551243Z",
          "shell.execute_reply": "2024-11-24T16:47:49.567164Z"
        },
        "id": "CpXkGsLtIDKm"
      },
      "outputs": [],
      "execution_count": null
    },
    {
      "cell_type": "code",
      "source": [
        "#Update hyperparameters\n",
        "LGBM_params={\n",
        "    'n_estimators': 250,\n",
        "    'learning_rate': 0.02,\n",
        "    'max_depth': 8,\n",
        "    'feature_fraction':0.611,\n",
        "    'bagging_fraction':0.556,\n",
        "    'bagging_freq':4,\n",
        "    'lamda_l1':11,\n",
        "    'lamda_l2':1.0,\n",
        "   }\n",
        "#XGBoost:\n",
        "XGB_params={\n",
        "    'n_estimators': 350,\n",
        "    'learning_rate': 0.02,\n",
        "    'max_depth': 8,\n",
        "    'subsample':0.5,\n",
        "    'colsample_bytree': 0.5,\n",
        "    'reg_alpha': 0.5,\n",
        "    'reg_lambda': 1,\n",
        "    'random_state':SEED\n",
        "}\n",
        "\n",
        "Light=LGBMRegressor(**LGBM_params,random_state=SEED,verbose=-1)\n",
        "XGB_model=XGBRegressor(**XGB_params)\n",
        "voting_model=VotingRegressor(estimators=[('lightgbm',Light),('xgboost',XGB_model)])\n",
        "submission1 = TrainML(voting_model,test)"
      ],
      "metadata": {
        "trusted": true,
        "execution": {
          "iopub.status.busy": "2024-11-24T16:47:49.569753Z",
          "iopub.execute_input": "2024-11-24T16:47:49.570101Z",
          "iopub.status.idle": "2024-11-24T16:48:06.59255Z",
          "shell.execute_reply.started": "2024-11-24T16:47:49.570068Z",
          "shell.execute_reply": "2024-11-24T16:48:06.591424Z"
        },
        "id": "cLF5UEzjIDKm"
      },
      "outputs": [],
      "execution_count": null
    }
  ]
}